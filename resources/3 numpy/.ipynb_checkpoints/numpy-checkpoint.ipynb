{
 "cells": [
  {
   "cell_type": "markdown",
   "metadata": {},
   "source": [
    "<br><br>\n",
    "\n",
    "# Numpy"
   ]
  },
  {
   "cell_type": "code",
   "execution_count": 1,
   "metadata": {
    "scrolled": false
   },
   "outputs": [
    {
     "name": "stdout",
     "output_type": "stream",
     "text": [
      "<class 'numpy.ndarray'>\n"
     ]
    }
   ],
   "source": [
    "import numpy as np\n",
    "\n",
    "#Creamos un np array de rango 1, \n",
    "un_array = np.array([7, 77, 777]) \n",
    "print(type(un_array))"
   ]
  },
  {
   "cell_type": "code",
   "execution_count": 2,
   "metadata": {},
   "outputs": [
    {
     "name": "stdout",
     "output_type": "stream",
     "text": [
      "(3,)\n"
     ]
    }
   ],
   "source": [
    "#imprimimos la forma (shape) del array\n",
    "print(un_array.shape)\n"
   ]
  },
  {
   "cell_type": "code",
   "execution_count": 3,
   "metadata": {},
   "outputs": [
    {
     "name": "stdout",
     "output_type": "stream",
     "text": [
      "7\n",
      "77\n",
      "777\n",
      "4\n"
     ]
    }
   ],
   "source": [
    "#accedemos a las variables\n",
    "print(un_array[0])\n",
    "print(un_array[1])\n",
    "print(un_array[2])\n",
    "un_array[2] = 4\n",
    "print(un_array[2])"
   ]
  },
  {
   "cell_type": "markdown",
   "metadata": {},
   "source": [
    "<br><br>\n",
    "\n",
    "## Cómo crear un array multidimensional"
   ]
  },
  {
   "cell_type": "code",
   "execution_count": 4,
   "metadata": {},
   "outputs": [
    {
     "name": "stdout",
     "output_type": "stream",
     "text": [
      "La forma de este array es:  (2, 3)\n"
     ]
    }
   ],
   "source": [
    "otro = np.array([ [11,12,13], [21,22,23] ]) \n",
    "print(\"La forma de este array es: \",otro.shape)"
   ]
  },
  {
   "cell_type": "code",
   "execution_count": 9,
   "metadata": {
    "scrolled": true
   },
   "outputs": [
    {
     "name": "stdout",
     "output_type": "stream",
     "text": [
      "Así accedo a un valor de este array de dos dimensiones 23\n",
      "Así imprimo el array completo\n",
      "[[11 12 13]\n",
      " [21 22 23]]\n"
     ]
    }
   ],
   "source": [
    "print(\"Así accedo a un valor de este array de dos dimensiones\", otro[1,2])\n",
    "print(\"Así imprimo el array completo\")\n",
    "print(otro)\n"
   ]
  },
  {
   "cell_type": "markdown",
   "metadata": {},
   "source": [
    "$ I^{n \\times n} =\n",
    "\\left( \\begin{array}{cccc}\n",
    " 11 & 12 & 13  \\\\ \n",
    " 22 & 23 & 24  \\\\ \n",
    "\\end{array} \\right) $"
   ]
  },
  {
   "cell_type": "markdown",
   "metadata": {},
   "source": [
    "\n",
    "<br><br>\n",
    "\n",
    "## Distintas maneras de crear np arrays\n"
   ]
  },
  {
   "cell_type": "code",
   "execution_count": null,
   "metadata": {},
   "outputs": [],
   "source": [
    "#crear array lleno de ceros\n",
    "ej1 = np.zeros((2,5,5))\n",
    "print(ej1)"
   ]
  },
  {
   "cell_type": "code",
   "execution_count": null,
   "metadata": {},
   "outputs": [],
   "source": [
    "#creamos un array lleno de un valor determinado (floats por ejemplo)\n",
    "ej2 = np.full((2,2), 9.0)\n",
    "print(ej2)"
   ]
  },
  {
   "cell_type": "code",
   "execution_count": null,
   "metadata": {},
   "outputs": [],
   "source": [
    "#creando un array de 2x2 condiagonal en \"unos\" y el resto cero\n",
    "ej3 = np.eye(7,7)\n",
    "print(ej3)"
   ]
  },
  {
   "cell_type": "code",
   "execution_count": null,
   "metadata": {},
   "outputs": [],
   "source": [
    "#creando un array de \"unos\"\n",
    "ej4 = np.ones((10,7))\n",
    "print(ej4)"
   ]
  },
  {
   "cell_type": "code",
   "execution_count": null,
   "metadata": {},
   "outputs": [],
   "source": [
    "# creamos un array de flotantes aleatorios entre 0 y 1\n",
    "ej5 = np.random.random((5,5))\n",
    "print(ej5)"
   ]
  },
  {
   "cell_type": "markdown",
   "metadata": {},
   "source": [
    "\n",
    "<br><br>\n",
    "\n",
    "## Rebanando arrays (Slice)\n",
    "Hacer Slice a un array, sirve para aislar una \"sub-región\" de la matriz de un ndarray"
   ]
  },
  {
   "cell_type": "code",
   "execution_count": null,
   "metadata": {},
   "outputs": [],
   "source": [
    "un_array = np.array([[11,12,13,14,15,16], [21,22,23,24,25,26], [31,32,33,34,35,36],[41,42,43,44,45,46]])\n",
    "print(un_array)"
   ]
  },
  {
   "cell_type": "code",
   "execution_count": null,
   "metadata": {},
   "outputs": [],
   "source": [
    "#crearemos un slice de 2 x 2 a partir de \"un_array\"\n",
    "un_slice = un_array[:2,1:3]\n",
    "print(un_slice)"
   ]
  },
  {
   "cell_type": "code",
   "execution_count": null,
   "metadata": {},
   "outputs": [],
   "source": [
    "#imprimimos el valor fila 0 columna 0 del slice\n",
    "#como vemos en la salida, el slice genera un nuevo índice\n",
    "print(\"Slice:\", un_slice[0, 0]) \n"
   ]
  },
  {
   "cell_type": "code",
   "execution_count": null,
   "metadata": {},
   "outputs": [],
   "source": [
    "#ahora sumaremos 100 al valor de la posicion (0,0) del slice\n",
    "#como veremos pudremos sumar sin problema alguno.\n",
    "un_slice[0,0] += 100\n",
    "print(\"Slice:\", un_slice[0, 0]) "
   ]
  },
  {
   "cell_type": "code",
   "execution_count": null,
   "metadata": {},
   "outputs": [],
   "source": [
    "#hora imprimamos la posición (0,1) del array original, \n",
    "print(\"Array original:\", un_array[0, 1]) "
   ]
  },
  {
   "cell_type": "markdown",
   "metadata": {},
   "source": [
    "¿cómo, pero si al array original no lo tocamos?"
   ]
  },
  {
   "cell_type": "code",
   "execution_count": null,
   "metadata": {},
   "outputs": [],
   "source": [
    "#como confirmaremos aquí, un slice, no es más que un puntero o acceso directo al array original,\\\n",
    "# y si modificamos el slice en realidad estaremos modificando el array original.\n",
    "print(un_array)"
   ]
  },
  {
   "cell_type": "markdown",
   "metadata": {},
   "source": [
    "<br><br><b>Muy IMPORTANTE</b> <br>\n",
    "Y si necesitáramos tener un nuevo array a partir de un slice?"
   ]
  },
  {
   "cell_type": "code",
   "execution_count": null,
   "metadata": {},
   "outputs": [],
   "source": [
    "nuevo_array = np.array(un_slice)\n",
    "print(nuevo_array)"
   ]
  },
  {
   "cell_type": "code",
   "execution_count": null,
   "metadata": {},
   "outputs": [],
   "source": [
    "#volvamos al slice\n",
    "#puedo seleccionar  una sola fila, entonces el slice será unidimensional.\n",
    "row_rank1 = un_array[1, :]    \n",
    "print(row_rank1, row_rank1.shape)  "
   ]
  },
  {
   "cell_type": "code",
   "execution_count": null,
   "metadata": {},
   "outputs": [],
   "source": [
    "#lo mimso podemos hacer con una columna\n",
    "row_rank1 = un_array[:, 1]    \n",
    "print(row_rank1, row_rank1.shape)  "
   ]
  },
  {
   "cell_type": "markdown",
   "metadata": {},
   "source": [
    "<br><br>\n",
    "## Array de índices\n",
    "A veces es útil, preparar una serie de índices en un array, para luego utilizarlos para operar sobre otro."
   ]
  },
  {
   "cell_type": "code",
   "execution_count": null,
   "metadata": {},
   "outputs": [],
   "source": [
    "#creamos un nuevo array\n",
    "array_a = np.array([[11,12,13], [21,22,23], [31,32,33], [41,42,43]])\n",
    "print(array_a)"
   ]
  },
  {
   "cell_type": "code",
   "execution_count": null,
   "metadata": {},
   "outputs": [],
   "source": [
    "#creamos 2 arrays con números enteros que usaremos como indices\n",
    "cols = np.array([0,1,2,0])\n",
    "rows = np.arange(4)\n",
    "print(\"Elegimos estos índices para columnas ->\", cols)\n",
    "print(\"Elegimos estos índices para filas ->\", rows)"
   ]
  },
  {
   "cell_type": "code",
   "execution_count": null,
   "metadata": {},
   "outputs": [],
   "source": [
    "#imprimamos los índices tomando uno de cada array, de a pares, \n",
    "for row,col in zip(rows,cols):\n",
    "    print(\"(\",row,\",\",col,\")\")"
   ]
  },
  {
   "cell_type": "code",
   "execution_count": null,
   "metadata": {},
   "outputs": [],
   "source": [
    "#entonces ahora para seleccionar un elemento de cada fila, hacemos de esta manera\n",
    "print('Los valores contenidos en los índices son: ',array_a[rows, cols])"
   ]
  },
  {
   "cell_type": "code",
   "execution_count": null,
   "metadata": {},
   "outputs": [],
   "source": [
    "#vamos a operar con los valores seleccionados\n",
    "array_a[rows, cols] += 1000\n",
    "print(array_a)"
   ]
  },
  {
   "cell_type": "markdown",
   "metadata": {},
   "source": [
    "<br><br>\n",
    "## Indexado Booleano\n",
    "Indexado booleano para cambiar elementos"
   ]
  },
  {
   "cell_type": "code",
   "execution_count": null,
   "metadata": {},
   "outputs": [],
   "source": [
    "# creamos un array de 3x2\n",
    "array_b = np.array([[11,12], [21, 22], [31, 32]])\n",
    "print(array_b)\n",
    "print(\"______________\")\n",
    "print(array_b.shape)"
   ]
  },
  {
   "cell_type": "code",
   "execution_count": null,
   "metadata": {},
   "outputs": [],
   "source": [
    "# crear un filtro es muy facil en numpy\n",
    "filtro = (array_b > 15)\n",
    "filtro"
   ]
  },
  {
   "cell_type": "code",
   "execution_count": null,
   "metadata": {},
   "outputs": [],
   "source": [
    "# entonces ahora podemos aplicar el filtro a nuestro array\n",
    "filtrado = array_b[filtro]\n",
    "print(filtrado)"
   ]
  },
  {
   "cell_type": "code",
   "execution_count": null,
   "metadata": {},
   "outputs": [],
   "source": [
    "# no es necesario primero crear el filtro y luego aplicarlo, podemos hacerlo al unísono\n",
    "print(array_b[(array_b % 2 == 0)])"
   ]
  },
  {
   "cell_type": "markdown",
   "metadata": {},
   "source": [
    "El uso principal de este tipo de filtros es el de poder modificar los valores del array que cumplan cierto criterio"
   ]
  },
  {
   "cell_type": "code",
   "execution_count": null,
   "metadata": {},
   "outputs": [],
   "source": [
    "array_b[array_b % 2 == 0] += 1000\n",
    "print(array_b)"
   ]
  },
  {
   "cell_type": "markdown",
   "metadata": {},
   "source": [
    "<br><br>\n",
    "## Tipos de datos de los arrays numpy"
   ]
  },
  {
   "cell_type": "code",
   "execution_count": null,
   "metadata": {},
   "outputs": [],
   "source": [
    "# en este caso python se encarga de asignar el tipo de dato\n",
    "ej1 = np.array([11, 12]) \n",
    "print(ej1.dtype)"
   ]
  },
  {
   "cell_type": "code",
   "execution_count": null,
   "metadata": {},
   "outputs": [],
   "source": [
    "# python asigna el tipo de dato\n",
    "ej2 = np.array([11.0, 12.0]) \n",
    "print(ej2.dtype) "
   ]
  },
  {
   "cell_type": "code",
   "execution_count": null,
   "metadata": {},
   "outputs": [],
   "source": [
    "# también puedo forzar el tipo de dato expresándolo de manera explícita\n",
    "ej3 = np.array([11, 21], dtype=np.int64) \n",
    "print(ej3.dtype)"
   ]
  },
  {
   "cell_type": "code",
   "execution_count": null,
   "metadata": {},
   "outputs": [],
   "source": [
    "# si lo necesitáramos podríamos forzar flotantes a enteros\n",
    "ej4 = np.array([11.1,12.7], dtype=np.int64)\n",
    "print(ej4.dtype)\n",
    "print()\n",
    "print(ej4)"
   ]
  },
  {
   "cell_type": "markdown",
   "metadata": {},
   "source": [
    "<br><br>\n",
    "## Operaciones Aritméticas "
   ]
  },
  {
   "cell_type": "code",
   "execution_count": null,
   "metadata": {},
   "outputs": [],
   "source": [
    "x = np.array([[111,112],[121,122]], dtype=np.int)\n",
    "y = np.array([[211.1,212.1],[221.1,222.1]], dtype=np.float64)\n",
    "\n",
    "print(x)\n",
    "print()\n",
    "print(y)"
   ]
  },
  {
   "cell_type": "code",
   "execution_count": null,
   "metadata": {},
   "outputs": [],
   "source": [
    "# resta\n",
    "print(x - y)\n",
    "print()\n",
    "print(np.subtract(x, y))"
   ]
  },
  {
   "cell_type": "code",
   "execution_count": null,
   "metadata": {},
   "outputs": [],
   "source": [
    "# multiplicación \n",
    "print(x * y)\n",
    "print()\n",
    "print(np.multiply(x, y))"
   ]
  },
  {
   "cell_type": "code",
   "execution_count": null,
   "metadata": {},
   "outputs": [],
   "source": [
    "# división\n",
    "print(x / y)\n",
    "print()\n",
    "print(np.divide(x, y))"
   ]
  },
  {
   "cell_type": "code",
   "execution_count": null,
   "metadata": {},
   "outputs": [],
   "source": [
    "# raíz cuadrada\n",
    "print(np.sqrt(x))"
   ]
  },
  {
   "cell_type": "markdown",
   "metadata": {},
   "source": [
    "<br><br>\n",
    "## Operaciones Estadísticas Básicas "
   ]
  },
  {
   "cell_type": "code",
   "execution_count": null,
   "metadata": {},
   "outputs": [],
   "source": [
    "# generar un array aleatorio \n",
    "arr = 10 * np.random.randn(2,5)\n",
    "print(arr)"
   ]
  },
  {
   "cell_type": "code",
   "execution_count": null,
   "metadata": {},
   "outputs": [],
   "source": [
    "# calcular la media (promedio) de un array\n",
    "print(arr.mean())"
   ]
  },
  {
   "cell_type": "code",
   "execution_count": null,
   "metadata": {},
   "outputs": [],
   "source": [
    "# calcular el promedio pero en este caso, fila por fila\n",
    "# importante recordar\n",
    "# eje 0 = columnas\n",
    "# eje 1 = filas\n",
    "print(arr.mean(axis = 1))"
   ]
  },
  {
   "cell_type": "code",
   "execution_count": null,
   "metadata": {},
   "outputs": [],
   "source": [
    "# calcular el promedio pero en este caso, fila por fila\n",
    "print(arr.mean(axis = 0))"
   ]
  },
  {
   "cell_type": "code",
   "execution_count": null,
   "metadata": {},
   "outputs": [],
   "source": [
    "# creamos array de 10 elementos aleatorios \n",
    "desordenado = np.random.randn(10)\n",
    "print(desordenado) "
   ]
  },
  {
   "cell_type": "code",
   "execution_count": null,
   "metadata": {},
   "outputs": [],
   "source": [
    "#creamos una copia\n",
    "ordenado = np.array(desordenado)\n",
    "\n",
    "#lo ordenamos \n",
    "ordenado.sort()\n",
    "print(ordenado)"
   ]
  },
  {
   "cell_type": "code",
   "execution_count": null,
   "metadata": {},
   "outputs": [],
   "source": [
    "#buscando elementos únicos (MUY UTIL!)\n",
    "array = np.array([1,2,1,4,2,1,4,2])\n",
    "print(np.unique(array))"
   ]
  },
  {
   "cell_type": "code",
   "execution_count": null,
   "metadata": {},
   "outputs": [],
   "source": [
    "# OPERACIONES DE CONJUNTO\n",
    "s1 = np.array(['escritorio','silla','mesa'])\n",
    "s2 = np.array(['escritorio','silla','lampara'])\n",
    "print(s1)\n",
    "print(s2)"
   ]
  },
  {
   "cell_type": "code",
   "execution_count": null,
   "metadata": {},
   "outputs": [],
   "source": [
    "# Intersección\n",
    "print( np.intersect1d(s1, s2) ) "
   ]
  },
  {
   "cell_type": "code",
   "execution_count": null,
   "metadata": {},
   "outputs": [],
   "source": [
    "# Union en 1d\n",
    "print( np.union1d(s1, s2) )"
   ]
  },
  {
   "cell_type": "code",
   "execution_count": null,
   "metadata": {},
   "outputs": [],
   "source": [
    "# Elementos de s1 que no están en s2\n",
    "print( np.setdiff1d(s1, s2) )"
   ]
  },
  {
   "cell_type": "code",
   "execution_count": null,
   "metadata": {},
   "outputs": [],
   "source": [
    "# que elementos de s1 están en s2\n",
    "print( np.in1d(s1, s2) )"
   ]
  },
  {
   "cell_type": "code",
   "execution_count": null,
   "metadata": {},
   "outputs": [],
   "source": []
  },
  {
   "cell_type": "markdown",
   "metadata": {},
   "source": [
    "<br><br>\n",
    "## Algunas operaciones frecuentes\n"
   ]
  },
  {
   "cell_type": "code",
   "execution_count": null,
   "metadata": {},
   "outputs": [],
   "source": [
    "#sumamos todos los elementos de un array\n",
    "ex1 = np.array([[11,12],[21,22]])\n",
    "print(np.sum(ex1))"
   ]
  },
  {
   "cell_type": "code",
   "execution_count": null,
   "metadata": {},
   "outputs": [],
   "source": [
    "# sumamos solo una columna\n",
    "print(np.sum(ex1, axis=0)) \n",
    "# ¿cómo sumaríamos una fila?\n"
   ]
  },
  {
   "cell_type": "markdown",
   "metadata": {},
   "source": [
    "Reformateando un array (IMPORTANTE)"
   ]
  },
  {
   "cell_type": "code",
   "execution_count": null,
   "metadata": {},
   "outputs": [],
   "source": [
    "#creamos un array\n",
    "arr = np.arange(20)\n",
    "print(arr)"
   ]
  },
  {
   "cell_type": "code",
   "execution_count": null,
   "metadata": {},
   "outputs": [],
   "source": [
    "#cambiamos su forma\n",
    "reshped_arr = arr.reshape(4,5)\n",
    "print(reshped_arr)"
   ]
  },
  {
   "cell_type": "code",
   "execution_count": null,
   "metadata": {},
   "outputs": [],
   "source": [
    "#Transponer o transposicionar un array\n",
    "ex1 = np.array([[11,12],[21,22]])\n",
    "ex1.T"
   ]
  },
  {
   "cell_type": "code",
   "execution_count": null,
   "metadata": {},
   "outputs": [],
   "source": [
    "# WHERE ... MUY UTIL!\n",
    "mat = np.random.rand(4,4)\n",
    "mat"
   ]
  },
  {
   "cell_type": "code",
   "execution_count": null,
   "metadata": {},
   "outputs": [],
   "source": [
    "# le paso array condicion, valor si true, valor si false\n",
    "np.where( mat > 0.5, 1000, -1)"
   ]
  },
  {
   "cell_type": "code",
   "execution_count": null,
   "metadata": {},
   "outputs": [],
   "source": [
    "# comprobar si algun elemento del array es verdadero notar que funciona tanto con número como\n",
    "# con booleanos, ya que el 0 es considerado false y todo distinto de 0 es true\n",
    "arr_bools = np.array([ 0,0,0,0,0,1 ])\n",
    "arr_bools.any()"
   ]
  },
  {
   "cell_type": "code",
   "execution_count": null,
   "metadata": {},
   "outputs": [],
   "source": [
    "# comprobar si algun elemento del array es verdadero notar que funciona tanto con número como\n",
    "# con booleanos, ya que el 0 es considerado false y todo distinto de 0 es true\n",
    "arr_bools = np.array([ 0,0,0,0,0,1 ])\n",
    "arr_bools.all() "
   ]
  },
  {
   "cell_type": "markdown",
   "metadata": {},
   "source": [
    "Uniendo data sets"
   ]
  },
  {
   "cell_type": "code",
   "execution_count": null,
   "metadata": {},
   "outputs": [],
   "source": [
    "K = np.random.randint(low=2,high=50,size=(2,2))\n",
    "print(K)\n",
    "\n",
    "print()\n",
    "M = np.random.randint(low=2,high=50,size=(2,2))\n",
    "print(M)\n"
   ]
  },
  {
   "cell_type": "code",
   "execution_count": null,
   "metadata": {},
   "outputs": [],
   "source": [
    "#unimos \"apilando\" verticalmente\n",
    "np.vstack((K,M))"
   ]
  },
  {
   "cell_type": "code",
   "execution_count": null,
   "metadata": {},
   "outputs": [],
   "source": [
    "#unimos \"apilando\" horizontamente\n",
    "np.hstack((K,M))"
   ]
  },
  {
   "cell_type": "code",
   "execution_count": null,
   "metadata": {},
   "outputs": [],
   "source": [
    "#podemos unir concatenando\n",
    "np.concatenate([K, M], axis = 0)"
   ]
  },
  {
   "cell_type": "code",
   "execution_count": null,
   "metadata": {},
   "outputs": [],
   "source": [
    "np.concatenate([K, M], axis = 1)"
   ]
  },
  {
   "cell_type": "markdown",
   "metadata": {},
   "source": [
    "<br><br>\n",
    "## Propagación\n",
    "\n",
    "Para más detalles: \n",
    "https://docs.scipy.org/doc/numpy-1.10.1/user/basics.broadcasting.html"
   ]
  },
  {
   "cell_type": "code",
   "execution_count": null,
   "metadata": {},
   "outputs": [],
   "source": [
    "base = np.zeros((4,4))\n",
    "print(start) "
   ]
  },
  {
   "cell_type": "code",
   "execution_count": null,
   "metadata": {},
   "outputs": [],
   "source": [
    "# creamos un array unidimensional\n",
    "row = np.array([1, 0, 2,7])\n",
    "print(add_rows) "
   ]
  },
  {
   "cell_type": "code",
   "execution_count": null,
   "metadata": {},
   "outputs": [],
   "source": [
    "y = base + row\n",
    "print(y) "
   ]
  },
  {
   "cell_type": "code",
   "execution_count": null,
   "metadata": {},
   "outputs": [],
   "source": [
    "#repetimos lo mismo pero ahora a base le sumaremos una columna\n",
    "col = np.array([[0,1,2,3]])\n",
    "print(col)"
   ]
  },
  {
   "cell_type": "code",
   "execution_count": null,
   "metadata": {},
   "outputs": [],
   "source": [
    "#como vimos, necesitamos \"verticalizar\" esta \"fila\"\n",
    "col = col.T\n",
    "print(col)"
   ]
  },
  {
   "cell_type": "code",
   "execution_count": null,
   "metadata": {},
   "outputs": [],
   "source": [
    "#sumemos a base\n",
    "y = base + col\n",
    "print(y) "
   ]
  },
  {
   "cell_type": "code",
   "execution_count": null,
   "metadata": {},
   "outputs": [],
   "source": [
    "col = np.array([[0,1,2]]) \n",
    "col = col.T\n",
    "print(col)"
   ]
  },
  {
   "cell_type": "code",
   "execution_count": null,
   "metadata": {},
   "outputs": [],
   "source": [
    "# veamos qué pasa cuando quiero hacer una operación de propagación \n",
    "y = base + col\n",
    "print(y)"
   ]
  },
  {
   "cell_type": "code",
   "execution_count": null,
   "metadata": {},
   "outputs": [],
   "source": [
    "arr_x = np.array([1])\n",
    "print(arr_x)\n",
    "print(\"________________\")\n",
    "print(base + arr_x)"
   ]
  },
  {
   "cell_type": "markdown",
   "metadata": {},
   "source": [
    "<br><br>\n",
    "# Prueba de velocidad!"
   ]
  },
  {
   "cell_type": "code",
   "execution_count": null,
   "metadata": {},
   "outputs": [],
   "source": [
    "from numpy import arange\n",
    "from timeit import Timer\n",
    "\n",
    "size    = 1000000\n",
    "timeits = 1000\n",
    "\n",
    "nd_array = arange(size)\n",
    "print( \"tipo de dato -> \",type(nd_array) )\n",
    "print( \"Forma -> \", nd_array.shape)\n"
   ]
  },
  {
   "cell_type": "code",
   "execution_count": null,
   "metadata": {},
   "outputs": [],
   "source": [
    "#con la función timer podemos medir, el tiempo que lleva realizar una operación o función, \n",
    "\n",
    "timer_numpy = Timer(\"nd_array.sum()\", \"from __main__ import nd_array\")\n",
    "print(\"Time taken by numpy ndarray: %f seconds\" % (timer_numpy.timeit(timeits)))"
   ]
  },
  {
   "cell_type": "code",
   "execution_count": null,
   "metadata": {},
   "outputs": [],
   "source": [
    "a_list = list(range(size))\n",
    "print (type(a_list) )\n",
    "print( \"Forma -> \", len(a_list))"
   ]
  },
  {
   "cell_type": "code",
   "execution_count": null,
   "metadata": {},
   "outputs": [],
   "source": [
    "timer_list = Timer(\"sum(a_list)\", \"from __main__ import a_list\")\n",
    "print(\"Time taken by list:  %f seconds\" % (timer_list.timeit(timeits)))"
   ]
  },
  {
   "cell_type": "markdown",
   "metadata": {},
   "source": [
    "<br><br>\n",
    "### Grabar array a disco / recuperar array de disco"
   ]
  },
  {
   "cell_type": "code",
   "execution_count": null,
   "metadata": {},
   "outputs": [],
   "source": [
    "x = np.array([ 23.23, 24.24] )"
   ]
  },
  {
   "cell_type": "code",
   "execution_count": null,
   "metadata": {},
   "outputs": [],
   "source": [
    " np.save('array_importante', x)\n"
   ]
  },
  {
   "cell_type": "code",
   "execution_count": null,
   "metadata": {},
   "outputs": [],
   "source": [
    "recuperado = np.load('array_importante.npy')\n",
    "print(\"el array recuperado es: \", recuperado)"
   ]
  },
  {
   "cell_type": "code",
   "execution_count": null,
   "metadata": {},
   "outputs": [],
   "source": []
  }
 ],
 "metadata": {
  "kernelspec": {
   "display_name": "Python 3",
   "language": "python",
   "name": "python3"
  },
  "language_info": {
   "codemirror_mode": {
    "name": "ipython",
    "version": 3
   },
   "file_extension": ".py",
   "mimetype": "text/x-python",
   "name": "python",
   "nbconvert_exporter": "python",
   "pygments_lexer": "ipython3",
   "version": "3.7.3"
  }
 },
 "nbformat": 4,
 "nbformat_minor": 2
}
